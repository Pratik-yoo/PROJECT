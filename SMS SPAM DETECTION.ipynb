{
 "cells": [
  {
   "cell_type": "markdown",
   "id": "b8f375c8-ac18-4a56-a278-5b4060eda4df",
   "metadata": {},
   "source": [
    "###### pip install nltk scikit-learn pandas requests"
   ]
  },
  {
   "cell_type": "code",
   "execution_count": 2,
   "id": "e2ccbbcd-6520-491e-8c6d-2304776dacbf",
   "metadata": {},
   "outputs": [
    {
     "name": "stderr",
     "output_type": "stream",
     "text": [
      "[nltk_data] Downloading package stopwords to\n",
      "[nltk_data]     C:\\Users\\Dell\\AppData\\Roaming\\nltk_data...\n",
      "[nltk_data]   Package stopwords is already up-to-date!\n"
     ]
    },
    {
     "name": "stdout",
     "output_type": "stream",
     "text": [
      "Accuracy: 0.9847533632286996\n",
      "Classification Report:\n",
      "               precision    recall  f1-score   support\n",
      "\n",
      "           0       0.99      0.99      0.99       966\n",
      "           1       0.95      0.94      0.94       149\n",
      "\n",
      "    accuracy                           0.98      1115\n",
      "   macro avg       0.97      0.97      0.97      1115\n",
      "weighted avg       0.98      0.98      0.98      1115\n",
      "\n"
     ]
    }
   ],
   "source": [
    "# model_development.py\n",
    "import pandas as pd\n",
    "from sklearn.feature_extraction.text import CountVectorizer\n",
    "from sklearn.model_selection import train_test_split\n",
    "from sklearn.naive_bayes import MultinomialNB\n",
    "from sklearn.metrics import accuracy_score, classification_report\n",
    "import nltk\n",
    "import requests\n",
    "import zipfile\n",
    "import io\n",
    "from joblib import dump\n",
    "\n",
    "# Download NLTK data\n",
    "nltk.download('stopwords')\n",
    "\n",
    "# URL of the dataset\n",
    "url = \"https://archive.ics.uci.edu/ml/machine-learning-databases/00228/smsspamcollection.zip\"\n",
    "\n",
    "# Download and extract the ZIP file\n",
    "response = requests.get(url)\n",
    "with zipfile.ZipFile(io.BytesIO(response.content)) as z:\n",
    "    with z.open('SMSSpamCollection') as f:\n",
    "        df = pd.read_csv(f, sep='\\t', names=[\"label\", \"message\"])\n",
    "\n",
    "# Data preprocessing\n",
    "df['label'] = df['label'].map({'ham': 0, 'spam': 1})\n",
    "\n",
    "# Split the data into training and testing sets\n",
    "X_train, X_test, y_train, y_test = train_test_split(df['message'], df['label'], test_size=0.2, random_state=42)\n",
    "\n",
    "# Initialize the CountVectorizer\n",
    "vectorizer = CountVectorizer(stop_words=nltk.corpus.stopwords.words('english'))\n",
    "\n",
    "# Fit and transform the training data\n",
    "X_train_vec = vectorizer.fit_transform(X_train)\n",
    "\n",
    "# Transform the testing data\n",
    "X_test_vec = vectorizer.transform(X_test)\n",
    "\n",
    "# Initialize the Multinomial Naive Bayes classifier\n",
    "clf = MultinomialNB()\n",
    "\n",
    "# Train the classifier\n",
    "clf.fit(X_train_vec, y_train)\n",
    "\n",
    "# Save the trained model and vectorizer\n",
    "dump(clf, 'spam_classifier.joblib')\n",
    "dump(vectorizer, 'vectorizer.joblib')\n",
    "\n",
    "# Make predictions on the test data\n",
    "y_pred = clf.predict(X_test_vec)\n",
    "\n",
    "# Evaluate the model\n",
    "print(\"Accuracy:\", accuracy_score(y_test, y_pred))\n",
    "print(\"Classification Report:\\n\", classification_report(y_test, y_pred))\n"
   ]
  },
  {
   "cell_type": "code",
   "execution_count": 3,
   "id": "99b4911f-541e-462f-8593-d2f6e9e52fb3",
   "metadata": {},
   "outputs": [
    {
     "name": "stdin",
     "output_type": "stream",
     "text": [
      "Enter a message to check if it's spam:  hii\n"
     ]
    },
    {
     "name": "stdout",
     "output_type": "stream",
     "text": [
      "The message is not spam.\n"
     ]
    }
   ],
   "source": [
    "# prediction.py\n",
    "from joblib import load\n",
    "\n",
    "# Load the trained model and vectorizer\n",
    "clf = load('spam_classifier.joblib')\n",
    "vectorizer = load('vectorizer.joblib')\n",
    "\n",
    "# Function to check if a message is spam\n",
    "def is_spam(message):\n",
    "    message_vec = vectorizer.transform([message])\n",
    "    return clf.predict(message_vec)[0]\n",
    "\n",
    "# Prompt the user for a message\n",
    "user_message = input(\"Enter a message to check if it's spam: \")\n",
    "\n",
    "# Predict if the message is spam\n",
    "result = is_spam(user_message)\n",
    "if result == 1:\n",
    "    print(\"The message is spam.\")\n",
    "else:\n",
    "    print(\"The message is not spam.\")\n"
   ]
  },
  {
   "cell_type": "code",
   "execution_count": 8,
   "id": "fa26c199-4d50-4683-9011-b6164dc49d92",
   "metadata": {},
   "outputs": [],
   "source": [
    "import tkinter as tk\n",
    "from tkinter import messagebox\n",
    "from joblib import load\n",
    "\n",
    "# Load the trained model and vectorizer\n",
    "clf = load('spam_classifier.joblib')\n",
    "vectorizer = load('vectorizer.joblib')\n",
    "\n",
    "# Function to check if a message is spam\n",
    "def check_spam():\n",
    "    message = entry.get()\n",
    "    result = clf.predict(vectorizer.transform([message]))[0]\n",
    "    messagebox.showinfo(\"Result\", \"The message is spam.\" if result == 1 else \"The message is not spam.\")\n",
    "\n",
    "# Create the main window\n",
    "root = tk.Tk()\n",
    "root.title(\"Spam Classifier\")\n",
    "root.geometry(\"400x200\")\n",
    "root.configure(bg='#f0f0f0')\n",
    "\n",
    "# Create and place the widgets\n",
    "tk.Label(root, text=\"Enter a message to check if it's spam:\", bg='#f0f0f0', fg='#333', font=('Arial', 12)).pack(pady=10)\n",
    "entry = tk.Entry(root, width=50, font=('Arial', 12))\n",
    "entry.pack(pady=10)\n",
    "tk.Button(root, text=\"Check\", command=check_spam, bg='#4CAF50', fg='white', font=('Arial', 12)).pack(pady=10)\n",
    "\n",
    "# Run the application\n",
    "root.mainloop()\n"
   ]
  },
  {
   "cell_type": "code",
   "execution_count": null,
   "id": "6e7a60bb-18bb-4d9a-a0b5-809153fa1d2b",
   "metadata": {},
   "outputs": [],
   "source": []
  }
 ],
 "metadata": {
  "kernelspec": {
   "display_name": "Python 3 (ipykernel)",
   "language": "python",
   "name": "python3"
  },
  "language_info": {
   "codemirror_mode": {
    "name": "ipython",
    "version": 3
   },
   "file_extension": ".py",
   "mimetype": "text/x-python",
   "name": "python",
   "nbconvert_exporter": "python",
   "pygments_lexer": "ipython3",
   "version": "3.11.7"
  }
 },
 "nbformat": 4,
 "nbformat_minor": 5
}
